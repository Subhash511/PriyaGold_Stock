{
 "cells": [
  {
   "cell_type": "code",
   "execution_count": null,
   "id": "3e6581bf",
   "metadata": {},
   "outputs": [],
   "source": [
    "import pandas as pd"
   ]
  },
  {
   "cell_type": "code",
   "execution_count": null,
   "id": "03d6b0f6",
   "metadata": {},
   "outputs": [],
   "source": [
    "sheet_url = \"https://docs.google.com/spreadsheets/d/13YpiRZ5SAp9tbe7DemRI5UYb6nYOru8RvpM_c3zQgvE/export?format=csv\"\n",
    "df = pd.read_csv(sheet_url)"
   ]
  },
  {
   "cell_type": "code",
   "execution_count": null,
   "id": "a1e96982",
   "metadata": {},
   "outputs": [],
   "source": [
    "df.to_excel('googlesheet.xlsx',index=False)"
   ]
  },
  {
   "cell_type": "code",
   "execution_count": null,
   "id": "d427a411",
   "metadata": {},
   "outputs": [],
   "source": [
    "df"
   ]
  },
  {
   "cell_type": "code",
   "execution_count": null,
   "id": "7b6a0820",
   "metadata": {},
   "outputs": [],
   "source": []
  }
 ],
 "metadata": {
  "kernelspec": {
   "display_name": "Python 3",
   "language": "python",
   "name": "python3"
  },
  "language_info": {
   "codemirror_mode": {
    "name": "ipython",
    "version": 3
   },
   "file_extension": ".py",
   "mimetype": "text/x-python",
   "name": "python",
   "nbconvert_exporter": "python",
   "pygments_lexer": "ipython3",
   "version": "3.13.3"
  }
 },
 "nbformat": 4,
 "nbformat_minor": 5
}
