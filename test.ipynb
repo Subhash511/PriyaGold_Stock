{
 "cells": [
  {
   "cell_type": "code",
   "execution_count": 1,
   "id": "a94c188a",
   "metadata": {},
   "outputs": [],
   "source": [
    "import pandas as pd\n",
    "import sqlite3"
   ]
  },
  {
   "cell_type": "code",
   "execution_count": 2,
   "id": "2779b39d",
   "metadata": {},
   "outputs": [
    {
     "data": {
      "text/plain": [
       "<sqlite3.Cursor at 0x1cd1867f2c0>"
      ]
     },
     "execution_count": 2,
     "metadata": {},
     "output_type": "execute_result"
    }
   ],
   "source": [
    "conn = sqlite3.connect(\"stock_data.db\", check_same_thread=False)\n",
    "cursor = conn.cursor()\n",
    "\n",
    "# Enable foreign key constraint\n",
    "cursor.execute(\"PRAGMA foreign_keys = ON;\")"
   ]
  },
  {
   "cell_type": "code",
   "execution_count": 3,
   "id": "cf25424b",
   "metadata": {},
   "outputs": [],
   "source": [
    "cursor.execute('''\n",
    "CREATE TABLE IF NOT EXISTS sku_master (\n",
    "    id INTEGER PRIMARY KEY AUTOINCREMENT,\n",
    "    sku_name TEXT NOT NULL UNIQUE,\n",
    "    category TEXT\n",
    ")\n",
    "''')\n",
    "\n",
    "cursor.execute('''\n",
    "CREATE TABLE IF NOT EXISTS stock_master (\n",
    "    sku_id INTEGER PRIMARY KEY AUTOINCREMENT,\n",
    "    opening INTEGER,\n",
    "    closing INTEGER,\n",
    "    purchase INTEGER,\n",
    "    sales INTEGER,\n",
    "    db_id INTEGER,\n",
    "    month_id INTEGER,\n",
    "    sku_master_id INTEGER,\n",
    "    FOREIGN KEY (db_id) REFERENCES db_master(db_id),\n",
    "    FOREIGN KEY (month_id) REFERENCES month_table(month_id),\n",
    "    FOREIGN KEY (sku_master_id) REFERENCES sku_master(id)\n",
    ")\n",
    "''')\n",
    "\n",
    "conn.commit()\n"
   ]
  },
  {
   "cell_type": "code",
   "execution_count": null,
   "id": "c2692d97",
   "metadata": {},
   "outputs": [],
   "source": []
  }
 ],
 "metadata": {
  "kernelspec": {
   "display_name": "Python 3",
   "language": "python",
   "name": "python3"
  },
  "language_info": {
   "codemirror_mode": {
    "name": "ipython",
    "version": 3
   },
   "file_extension": ".py",
   "mimetype": "text/x-python",
   "name": "python",
   "nbconvert_exporter": "python",
   "pygments_lexer": "ipython3",
   "version": "3.13.3"
  }
 },
 "nbformat": 4,
 "nbformat_minor": 5
}
