{
 "cells": [
  {
   "cell_type": "code",
   "execution_count": 1,
   "id": "a722a746",
   "metadata": {},
   "outputs": [],
   "source": [
    "import requests\n",
    "import json\n",
    "import pandas as pd"
   ]
  },
  {
   "cell_type": "code",
   "execution_count": null,
   "id": "f1a1e949",
   "metadata": {},
   "outputs": [],
   "source": [
    "\n",
    "\n",
    "# # Google Apps Script Web App URL\n",
    "# url = \"https://script.google.com/macros/s/AKfycbwyP9x-mjl2wu8hYRP0Ctyep2BN4VDLmL9czfR-DoH2gi0JebPG-6M2v2SMuVWE0C_yDw/exec\"\n",
    "# url = 'http://127.0.0.1:5000/submit-stock'\n",
    "# # JSON payload\n",
    "# payload ={'State': 'Chhattisgarh', 'SS_Name': 'Agarwal Enterprises', 'DB_Name': 'Agarwal corpo.', 'Month': '2025-05', 'stocks': [{'Category': 'Bis', 'Item': 'Product A', 'Mrp': 100, 'Opening': '1238', 'Closing': '90'}, {'Category': 'Bis', 'Item': 'Product B', 'Mrp': 200, 'Opening': '0', 'Closing': '8'}, {'Category': 'Conf', 'Item': 'Product A', 'Mrp': 20, 'Opening': '78', 'Closing': '0'}, {'Category': 'Conf', 'Item': 'Product B', 'Mrp': 20, 'Opening': '8', 'Closing': '0'}]}"
   ]
  },
  {
   "cell_type": "code",
   "execution_count": null,
   "id": "0104e787",
   "metadata": {},
   "outputs": [],
   "source": [
    "# # Send POST request\n",
    "# response = requests.post(url, json=payload)\n",
    "\n",
    "# # Print response\n",
    "# print(\"Status Code:\", response.status_code)\n",
    "# print(\"Response Text:\", response.text)\n"
   ]
  },
  {
   "cell_type": "markdown",
   "id": "b09f8e29",
   "metadata": {},
   "source": [
    "## Data Csv to Json"
   ]
  },
  {
   "cell_type": "code",
   "execution_count": 2,
   "id": "8abc3f8e",
   "metadata": {},
   "outputs": [],
   "source": [
    "#df = pd.read_csv('Data/db.csv')\n",
    "df1 = pd.read_excel('Data/sku_master.xlsx',sheet_name='sku_master')"
   ]
  },
  {
   "cell_type": "code",
   "execution_count": 3,
   "id": "d76a7720",
   "metadata": {},
   "outputs": [],
   "source": [
    "df1.sort_values(by=['Category','Item_list','Mrp'],inplace=True)\n",
    "df1.to_json('Data/sku_master.json')"
   ]
  },
  {
   "cell_type": "code",
   "execution_count": 4,
   "id": "a0c1e9f6",
   "metadata": {},
   "outputs": [
    {
     "data": {
      "text/html": [
       "<div>\n",
       "<style scoped>\n",
       "    .dataframe tbody tr th:only-of-type {\n",
       "        vertical-align: middle;\n",
       "    }\n",
       "\n",
       "    .dataframe tbody tr th {\n",
       "        vertical-align: top;\n",
       "    }\n",
       "\n",
       "    .dataframe thead th {\n",
       "        text-align: right;\n",
       "    }\n",
       "</style>\n",
       "<table border=\"1\" class=\"dataframe\">\n",
       "  <thead>\n",
       "    <tr style=\"text-align: right;\">\n",
       "      <th></th>\n",
       "      <th>Category</th>\n",
       "      <th>Item_list</th>\n",
       "      <th>Mrp</th>\n",
       "    </tr>\n",
       "  </thead>\n",
       "  <tbody>\n",
       "    <tr>\n",
       "      <th>5</th>\n",
       "      <td>Biscuits</td>\n",
       "      <td>B.B. Pista</td>\n",
       "      <td>₹ 45 x 24</td>\n",
       "    </tr>\n",
       "    <tr>\n",
       "      <th>25</th>\n",
       "      <td>Biscuits</td>\n",
       "      <td>Bourbon</td>\n",
       "      <td>₹ 10 x 60</td>\n",
       "    </tr>\n",
       "    <tr>\n",
       "      <th>26</th>\n",
       "      <td>Biscuits</td>\n",
       "      <td>Bourbon</td>\n",
       "      <td>₹ 20 x 30</td>\n",
       "    </tr>\n",
       "    <tr>\n",
       "      <th>2</th>\n",
       "      <td>Biscuits</td>\n",
       "      <td>Butter Bite</td>\n",
       "      <td>₹ 10 x 60</td>\n",
       "    </tr>\n",
       "    <tr>\n",
       "      <th>3</th>\n",
       "      <td>Biscuits</td>\n",
       "      <td>Butter Bite</td>\n",
       "      <td>₹ 20 x 30</td>\n",
       "    </tr>\n",
       "    <tr>\n",
       "      <th>...</th>\n",
       "      <td>...</td>\n",
       "      <td>...</td>\n",
       "      <td>...</td>\n",
       "    </tr>\n",
       "    <tr>\n",
       "      <th>78</th>\n",
       "      <td>Juices</td>\n",
       "      <td>PET BOTTLE|Treat Pet Bottle - Mango|1.2 L</td>\n",
       "      <td>1.2 x 12</td>\n",
       "    </tr>\n",
       "    <tr>\n",
       "      <th>76</th>\n",
       "      <td>Juices</td>\n",
       "      <td>PET BOTTLE|Treat Pet Bottle - Mango|250 ML</td>\n",
       "      <td>250 x 24</td>\n",
       "    </tr>\n",
       "    <tr>\n",
       "      <th>77</th>\n",
       "      <td>Juices</td>\n",
       "      <td>PET BOTTLE|Treat Pet Bottle - Mango|600 ML</td>\n",
       "      <td>600 x 24</td>\n",
       "    </tr>\n",
       "    <tr>\n",
       "      <th>74</th>\n",
       "      <td>Juices</td>\n",
       "      <td>TREAT|Treat Tetra Pack - Mango|125 ML</td>\n",
       "      <td>125 x 40</td>\n",
       "    </tr>\n",
       "    <tr>\n",
       "      <th>75</th>\n",
       "      <td>Juices</td>\n",
       "      <td>TREAT|Treat Tetra Pack - Mango|160 ML</td>\n",
       "      <td>160 x 30</td>\n",
       "    </tr>\n",
       "  </tbody>\n",
       "</table>\n",
       "<p>103 rows × 3 columns</p>\n",
       "</div>"
      ],
      "text/plain": [
       "    Category                                   Item_list        Mrp\n",
       "5   Biscuits                                  B.B. Pista  ₹ 45 x 24\n",
       "25  Biscuits                                     Bourbon  ₹ 10 x 60\n",
       "26  Biscuits                                     Bourbon  ₹ 20 x 30\n",
       "2   Biscuits                                 Butter Bite  ₹ 10 x 60\n",
       "3   Biscuits                                 Butter Bite  ₹ 20 x 30\n",
       "..       ...                                         ...        ...\n",
       "78    Juices   PET BOTTLE|Treat Pet Bottle - Mango|1.2 L   1.2 x 12\n",
       "76    Juices  PET BOTTLE|Treat Pet Bottle - Mango|250 ML   250 x 24\n",
       "77    Juices  PET BOTTLE|Treat Pet Bottle - Mango|600 ML   600 x 24\n",
       "74    Juices       TREAT|Treat Tetra Pack - Mango|125 ML   125 x 40\n",
       "75    Juices       TREAT|Treat Tetra Pack - Mango|160 ML   160 x 30\n",
       "\n",
       "[103 rows x 3 columns]"
      ]
     },
     "execution_count": 4,
     "metadata": {},
     "output_type": "execute_result"
    }
   ],
   "source": [
    "df1"
   ]
  },
  {
   "cell_type": "code",
   "execution_count": null,
   "id": "85c67d77",
   "metadata": {},
   "outputs": [],
   "source": [
    "# df2 = pd.read_json('Data/sku_master.json') \n",
    "# df2"
   ]
  },
  {
   "cell_type": "code",
   "execution_count": null,
   "id": "91551a0f",
   "metadata": {},
   "outputs": [],
   "source": [
    "df_ex = pd.read_excel('Data/db-excel.xlsx',sheet_name='selected')"
   ]
  },
  {
   "cell_type": "code",
   "execution_count": null,
   "id": "c76a4abb",
   "metadata": {},
   "outputs": [],
   "source": [
    "df_ex.columns"
   ]
  },
  {
   "cell_type": "code",
   "execution_count": null,
   "id": "b750c020",
   "metadata": {},
   "outputs": [],
   "source": [
    "df_ex1 = df_ex.rename(columns={\n",
    "    'STATE NAME':'State',\n",
    "    'SS NAME':'SS Name',\n",
    "    'Dealer Name (As Per GST)':'DB Name',\n",
    "    'Cross Checking':'Password'\n",
    "})"
   ]
  },
  {
   "cell_type": "code",
   "execution_count": null,
   "id": "ddbff5a7",
   "metadata": {},
   "outputs": [],
   "source": [
    "df_ex1 = df_ex1[['State', 'SS Name', 'DB Name', 'Password']]"
   ]
  },
  {
   "cell_type": "code",
   "execution_count": null,
   "id": "ccee2815",
   "metadata": {},
   "outputs": [],
   "source": [
    "df_ex1= df_ex1.dropna()"
   ]
  },
  {
   "cell_type": "code",
   "execution_count": null,
   "id": "2ca4a40b",
   "metadata": {},
   "outputs": [],
   "source": [
    "df_ex1['Password'] = df_ex1['Password'].astype(int)\n",
    "df_ex1['State'] = df_ex1['State'].astype(str)\n",
    "df_ex1['SS Name'] = df_ex1['SS Name'].astype(str)\n",
    "df_ex1['DB Name'] = df_ex1['DB Name'].astype(str)"
   ]
  },
  {
   "cell_type": "code",
   "execution_count": null,
   "id": "2c4a30f4",
   "metadata": {},
   "outputs": [],
   "source": [
    "df_ex1.sort_values(by=['State', 'SS Name', 'DB Name', 'Password'],inplace=True)"
   ]
  },
  {
   "cell_type": "code",
   "execution_count": null,
   "id": "4017631a",
   "metadata": {},
   "outputs": [],
   "source": [
    "# Create nested dictionary with password at DB level\n",
    "nested = {}\n",
    "\n",
    "for _, row in df_ex1.iterrows():\n",
    "    state = row['State']\n",
    "    ss = row['SS Name']\n",
    "    db = row['DB Name'] # DB Name\n",
    "    pwd = row['Password']\n",
    "\n",
    "    state_dict = nested.setdefault(state, {})\n",
    "    ss_dict = state_dict.setdefault(ss, {})\n",
    "    db_dict = ss_dict.setdefault(db, {\"password\": pwd})\n",
    "\n",
    "\n",
    "# Save\n",
    "with open(\"Data/db.json\", \"w\") as f:\n",
    "    json.dump(nested, f, indent=4)"
   ]
  },
  {
   "cell_type": "code",
   "execution_count": null,
   "id": "e1778c7c",
   "metadata": {},
   "outputs": [],
   "source": []
  }
 ],
 "metadata": {
  "kernelspec": {
   "display_name": "Python 3",
   "language": "python",
   "name": "python3"
  },
  "language_info": {
   "codemirror_mode": {
    "name": "ipython",
    "version": 3
   },
   "file_extension": ".py",
   "mimetype": "text/x-python",
   "name": "python",
   "nbconvert_exporter": "python",
   "pygments_lexer": "ipython3",
   "version": "3.13.3"
  }
 },
 "nbformat": 4,
 "nbformat_minor": 5
}
