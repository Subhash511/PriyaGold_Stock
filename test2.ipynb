{
 "cells": [
  {
   "cell_type": "code",
   "execution_count": 1,
   "id": "a722a746",
   "metadata": {},
   "outputs": [],
   "source": [
    "import requests\n",
    "import json\n",
    "import pandas as pd"
   ]
  },
  {
   "cell_type": "code",
   "execution_count": 2,
   "id": "f1a1e949",
   "metadata": {},
   "outputs": [],
   "source": [
    "\n",
    "\n",
    "# # Google Apps Script Web App URL\n",
    "# url = \"https://script.google.com/macros/s/AKfycbwyP9x-mjl2wu8hYRP0Ctyep2BN4VDLmL9czfR-DoH2gi0JebPG-6M2v2SMuVWE0C_yDw/exec\"\n",
    "# url = 'http://127.0.0.1:5000/submit-stock'\n",
    "# # JSON payload\n",
    "# payload ={'State': 'Chhattisgarh', 'SS_Name': 'Agarwal Enterprises', 'DB_Name': 'Agarwal corpo.', 'Month': '2025-05', 'stocks': [{'Category': 'Bis', 'Item': 'Product A', 'Mrp': 100, 'Opening': '1238', 'Closing': '90'}, {'Category': 'Bis', 'Item': 'Product B', 'Mrp': 200, 'Opening': '0', 'Closing': '8'}, {'Category': 'Conf', 'Item': 'Product A', 'Mrp': 20, 'Opening': '78', 'Closing': '0'}, {'Category': 'Conf', 'Item': 'Product B', 'Mrp': 20, 'Opening': '8', 'Closing': '0'}]}"
   ]
  },
  {
   "cell_type": "code",
   "execution_count": 3,
   "id": "0104e787",
   "metadata": {},
   "outputs": [],
   "source": [
    "# # Send POST request\n",
    "# response = requests.post(url, json=payload)\n",
    "\n",
    "# # Print response\n",
    "# print(\"Status Code:\", response.status_code)\n",
    "# print(\"Response Text:\", response.text)\n"
   ]
  },
  {
   "cell_type": "markdown",
   "id": "b09f8e29",
   "metadata": {},
   "source": [
    "## Data Csv to Json"
   ]
  },
  {
   "cell_type": "code",
   "execution_count": 4,
   "id": "8abc3f8e",
   "metadata": {},
   "outputs": [],
   "source": [
    "#df = pd.read_csv('Data/db.csv')\n",
    "df11 = pd.read_excel('Data/sku_master.xlsx',sheet_name='sku_master')"
   ]
  },
  {
   "cell_type": "code",
   "execution_count": 5,
   "id": "d76a7720",
   "metadata": {},
   "outputs": [],
   "source": [
    "#df11.sort_values(by=['Category','Item_list','Mrp'],inplace=True)\n",
    "df22 = df11[['Category','Item_list','Mrp']]\n",
    "df22.to_json('Data/sku_master.json')"
   ]
  },
  {
   "cell_type": "code",
   "execution_count": 6,
   "id": "85c67d77",
   "metadata": {},
   "outputs": [],
   "source": [
    "# df2 = pd.read_json('Data/sku_master.json') \n",
    "# df2"
   ]
  },
  {
   "cell_type": "code",
   "execution_count": 7,
   "id": "91551a0f",
   "metadata": {},
   "outputs": [],
   "source": [
    "#df = pd.read_excel('Data/db-excel.xlsx',sheet_name='selected2')"
   ]
  },
  {
   "cell_type": "code",
   "execution_count": 8,
   "id": "cbb8fbfa",
   "metadata": {},
   "outputs": [],
   "source": [
    "df = pd.read_excel('Data/db_master.xlsx',sheet_name='Dist_Detail_Master')"
   ]
  },
  {
   "cell_type": "code",
   "execution_count": 9,
   "id": "c76a4abb",
   "metadata": {},
   "outputs": [
    {
     "data": {
      "text/plain": [
       "Index(['S No', 'STATE NAME', 'ASM Name', 'SS Code', 'SS NAME', 'SS TOWN',\n",
       "       'Dist. Code', 'Dealer Name (As Per GST)', 'District Name', 'Town Name',\n",
       "       'Distance KM's From SS Point', 'DB GST Number',\n",
       "       'DB Contact Person Name', 'DB Contact Person Mob Number',\n",
       "       'DB Complete Postal Address', 'DB PIN Code', 'DB Email ID', 'DB Status',\n",
       "       'SR Name', 'Cross Checking', 'Bis. Target', 'Conf. Target',\n",
       "       'Noodle  Traget', 'Total Target', 'Bis. Target  ', 'Bis. Apr',\n",
       "       'Bis. May', 'Bis. Jun', 'Bis. Jul', 'Bis. Aug', 'Bis. Sep', 'Bis. Oct',\n",
       "       'Bis. Nov', 'Bis. Dec', 'Bis. Jan', 'Bis. Feb', 'Bis. Mar',\n",
       "       'Conf. Target  ', 'Conf. Apr', 'Conf. May', 'Conf. Jun', 'Conf. Jul',\n",
       "       'Conf. Aug', 'Conf. Sep', 'Conf. Oct', 'Conf. Nov', 'Conf. Dec',\n",
       "       'Conf. Jan', 'Conf. Feb', 'Conf. Mar', 'Juice Target  ', 'Juice Apr',\n",
       "       'Juice May', 'Juice Jun', 'Juice Jul', 'Juice Aug', 'Juice Sep',\n",
       "       'Juice Oct', 'Juice Nov', 'Juice Dec', 'Juice Jan', 'Juice Feb',\n",
       "       'Juice Mar', 'Noodles. Target', 'Noodle Nov', 'Noodle Dec',\n",
       "       'Noodle Jan', 'Noodle Feb', 'Noodle Mar'],\n",
       "      dtype='object')"
      ]
     },
     "execution_count": 9,
     "metadata": {},
     "output_type": "execute_result"
    }
   ],
   "source": [
    "df.columns"
   ]
  },
  {
   "cell_type": "code",
   "execution_count": 10,
   "id": "eb30f035",
   "metadata": {},
   "outputs": [],
   "source": [
    "df['STATE NAME'] = df['STATE NAME'].str.title()\n",
    "df['ASM Name'] = df['ASM Name'].str.title()\n",
    "df['SS NAME'] = df['SS NAME'].str.title()\n",
    "df['Dealer Name (As Per GST)'] = df['Dealer Name (As Per GST)'].str.title()"
   ]
  },
  {
   "cell_type": "code",
   "execution_count": 11,
   "id": "7a674b12",
   "metadata": {},
   "outputs": [],
   "source": [
    "df['SS Name'] = df['SS NAME']+\"|\"+df['SS Code']\n",
    "df['DB Name'] = df['Dealer Name (As Per GST)']+\"|\"+df['Dist. Code']"
   ]
  },
  {
   "cell_type": "code",
   "execution_count": 12,
   "id": "b750c020",
   "metadata": {},
   "outputs": [],
   "source": [
    "df1 = df.rename(columns={\n",
    "    'STATE NAME':'State',\n",
    "    'Cross Checking':'Password'\n",
    "})"
   ]
  },
  {
   "cell_type": "code",
   "execution_count": 13,
   "id": "ddbff5a7",
   "metadata": {},
   "outputs": [],
   "source": [
    "df1 = df1[['State', 'SS Name', 'DB Name', 'Password']]"
   ]
  },
  {
   "cell_type": "code",
   "execution_count": 14,
   "id": "ccee2815",
   "metadata": {},
   "outputs": [],
   "source": [
    "df1= df1.dropna()"
   ]
  },
  {
   "cell_type": "code",
   "execution_count": 15,
   "id": "2ca4a40b",
   "metadata": {},
   "outputs": [],
   "source": [
    "df1['Password'] = df1['Password'].astype(int)\n",
    "df1['State'] = df1['State'].astype(str)\n",
    "df1['SS Name'] = df1['SS Name'].astype(str)\n",
    "df1['DB Name'] = df1['DB Name'].astype(str)"
   ]
  },
  {
   "cell_type": "code",
   "execution_count": 16,
   "id": "2c4a30f4",
   "metadata": {},
   "outputs": [],
   "source": [
    "df1.sort_values(by=['State', 'SS Name', 'DB Name', 'Password'],inplace=True)"
   ]
  },
  {
   "cell_type": "code",
   "execution_count": 22,
   "id": "6c374cde",
   "metadata": {},
   "outputs": [
    {
     "data": {
      "text/plain": [
       "array(['Gujarat', 'Haryana', 'Himachal Pradesh', 'Maharashtra', 'Punjab',\n",
       "       'Rajasthan', 'Uttarakhand'], dtype=object)"
      ]
     },
     "execution_count": 22,
     "metadata": {},
     "output_type": "execute_result"
    }
   ],
   "source": [
    "df1['State'].unique()"
   ]
  },
  {
   "cell_type": "code",
   "execution_count": 23,
   "id": "d1c74be1",
   "metadata": {},
   "outputs": [],
   "source": [
    "df1 = df1[~df1['State'].isin(['Chhattisgarh','Madhya Pradesh'])]"
   ]
  },
  {
   "cell_type": "code",
   "execution_count": 24,
   "id": "4017631a",
   "metadata": {},
   "outputs": [],
   "source": [
    "# Create nested dictionary with password at DB level\n",
    "nested = {}\n",
    "\n",
    "for _, row in df1.iterrows():\n",
    "    state = row['State']\n",
    "    ss = row['SS Name']\n",
    "    db = row['DB Name'] # DB Name\n",
    "    pwd = row['Password']\n",
    "\n",
    "    state_dict = nested.setdefault(state, {})\n",
    "    ss_dict = state_dict.setdefault(ss, {})\n",
    "    db_dict = ss_dict.setdefault(db, {\"password\": pwd})\n",
    "\n",
    "\n",
    "# Save\n",
    "with open(\"Data/db.json\", \"w\") as f:\n",
    "    json.dump(nested, f, indent=4)"
   ]
  },
  {
   "cell_type": "markdown",
   "id": "e132e591",
   "metadata": {},
   "source": [
    "#Mumbai"
   ]
  },
  {
   "cell_type": "code",
   "execution_count": 25,
   "id": "e1778c7c",
   "metadata": {},
   "outputs": [],
   "source": [
    "# mumbai = df1[df1['State'].isin(['Maharashtra'])]"
   ]
  },
  {
   "cell_type": "code",
   "execution_count": 26,
   "id": "3a0ef66d",
   "metadata": {},
   "outputs": [],
   "source": [
    "# # Create nested dictionary with password at DB level\n",
    "# nested = {}\n",
    "\n",
    "# for _, row in mumbai.iterrows():\n",
    "#     state = row['State']\n",
    "#     ss = row['SS Name']\n",
    "#     db = row['DB Name'] # DB Name\n",
    "#     pwd = row['Password']\n",
    "\n",
    "#     state_dict = nested.setdefault(state, {})\n",
    "#     ss_dict = state_dict.setdefault(ss, {})\n",
    "#     db_dict = ss_dict.setdefault(db, {\"password\": pwd})\n",
    "\n",
    "\n",
    "# # Save\n",
    "# with open(\"Data/db.json\", \"w\") as f:\n",
    "#     json.dump(nested, f, indent=4)"
   ]
  }
 ],
 "metadata": {
  "kernelspec": {
   "display_name": "Python 3",
   "language": "python",
   "name": "python3"
  },
  "language_info": {
   "codemirror_mode": {
    "name": "ipython",
    "version": 3
   },
   "file_extension": ".py",
   "mimetype": "text/x-python",
   "name": "python",
   "nbconvert_exporter": "python",
   "pygments_lexer": "ipython3",
   "version": "3.13.3"
  }
 },
 "nbformat": 4,
 "nbformat_minor": 5
}
