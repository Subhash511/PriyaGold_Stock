{
 "cells": [
  {
   "cell_type": "code",
   "execution_count": null,
   "id": "a722a746",
   "metadata": {},
   "outputs": [],
   "source": [
    "import requests\n",
    "import json\n",
    "import pandas as pd"
   ]
  },
  {
   "cell_type": "code",
   "execution_count": null,
   "id": "f1a1e949",
   "metadata": {},
   "outputs": [],
   "source": [
    "\n",
    "\n",
    "# Google Apps Script Web App URL\n",
    "url = \"https://script.google.com/macros/s/AKfycby4iXX2Kf4krkCA5ThTgeG0uV7gqiNkis2efbehPBVIfWFo6mUoQ13vB4KUSWVXfeCQUA/exec\"\n",
    "\n",
    "# JSON payload\n",
    "payload = {\n",
    "    \"State\": \"Maharashtra\",\n",
    "    \"SS_Name\": \"SS1\",\n",
    "    \"DB_Name\": \"DB1\",\n",
    "    \"Month\": \"2025-06\",\n",
    "    \"Stock_Table\": [\n",
    "        {\n",
    "            \"Item_list\": \"Product A\",\n",
    "            \"Mrp\": \"100\",\n",
    "            \"Opening_Stock\": \"67\",\n",
    "            \"Closing\": \"\"\n",
    "        },\n",
    "        {\n",
    "            \"Item_list\": \"Product B\",\n",
    "            \"Mrp\": \"200\",\n",
    "            \"Opening_Stock\": \"90\",\n",
    "            \"Closing\": \"8\"\n",
    "        },\n",
    "        {\n",
    "            \"Item_list\": \"Product C\",\n",
    "            \"Mrp\": \"150\",\n",
    "            \"Opening_Stock\": \"\",\n",
    "            \"Closing\": \"1\"\n",
    "        }\n",
    "    ]\n",
    "}"
   ]
  },
  {
   "cell_type": "code",
   "execution_count": null,
   "id": "0104e787",
   "metadata": {},
   "outputs": [],
   "source": [
    "# Send POST request\n",
    "response = requests.post(url, json=payload)\n",
    "\n",
    "# Print response\n",
    "print(\"Status Code:\", response.status_code)\n",
    "print(\"Response Text:\", response.text)\n"
   ]
  },
  {
   "cell_type": "markdown",
   "id": "b09f8e29",
   "metadata": {},
   "source": [
    "## Data Csv to Json"
   ]
  },
  {
   "cell_type": "code",
   "execution_count": null,
   "id": "8abc3f8e",
   "metadata": {},
   "outputs": [],
   "source": [
    "df = pd.read_csv('Data/db.csv')\n",
    "df1 = pd.read_csv('Data/sku_master.csv')"
   ]
  },
  {
   "cell_type": "code",
   "execution_count": null,
   "id": "7ab56fb7",
   "metadata": {},
   "outputs": [],
   "source": [
    "df.columns"
   ]
  },
  {
   "cell_type": "code",
   "execution_count": null,
   "id": "83b0fc07",
   "metadata": {},
   "outputs": [],
   "source": [
    "\n",
    "# Create nested dictionary with password at DB level\n",
    "nested = {}\n",
    "\n",
    "for _, row in df.iterrows():\n",
    "    state = row['State']\n",
    "    ss = row['SS Name']\n",
    "    db = row['DB Name'] # DB Name\n",
    "    pwd = row['Password']\n",
    "\n",
    "    state_dict = nested.setdefault(state, {})\n",
    "    ss_dict = state_dict.setdefault(ss, {})\n",
    "    db_dict = ss_dict.setdefault(db, {\"password\": pwd})\n",
    "\n",
    "\n",
    "# Save\n",
    "with open(\"Data/db.json\", \"w\") as f:\n",
    "    json.dump(nested, f, indent=4)\n"
   ]
  },
  {
   "cell_type": "code",
   "execution_count": null,
   "id": "cd449c6f",
   "metadata": {},
   "outputs": [],
   "source": [
    "df1.to_json('Data/sku_master.json')"
   ]
  },
  {
   "cell_type": "code",
   "execution_count": null,
   "id": "d76a7720",
   "metadata": {},
   "outputs": [],
   "source": [
    "df1.sort_values(by=['Category','Item_list','Mrp'],inplace=True)"
   ]
  },
  {
   "cell_type": "code",
   "execution_count": null,
   "id": "85c67d77",
   "metadata": {},
   "outputs": [],
   "source": [
    "df2 = pd.read_json('Data/sku_master.json') \n",
    "df2"
   ]
  },
  {
   "cell_type": "code",
   "execution_count": null,
   "id": "91551a0f",
   "metadata": {},
   "outputs": [],
   "source": [
    "df_ex = pd.read_excel('Data/db-excel.xlsx')"
   ]
  },
  {
   "cell_type": "code",
   "execution_count": null,
   "id": "c76a4abb",
   "metadata": {},
   "outputs": [],
   "source": [
    "df_ex.columns"
   ]
  },
  {
   "cell_type": "code",
   "execution_count": null,
   "id": "b750c020",
   "metadata": {},
   "outputs": [],
   "source": [
    "df_ex1 = df_ex.rename(columns={\n",
    "    'STATE NAME':'State',\n",
    "    'SS NAME':'SS Name',\n",
    "    'Dealer Name (As Per GST)':'DB Name',\n",
    "    'Cross Checking':'Password'\n",
    "})"
   ]
  },
  {
   "cell_type": "code",
   "execution_count": null,
   "id": "ddbff5a7",
   "metadata": {},
   "outputs": [],
   "source": [
    "df_ex1 = df_ex1[['State', 'SS Name', 'DB Name', 'Password']]"
   ]
  },
  {
   "cell_type": "code",
   "execution_count": null,
   "id": "ccee2815",
   "metadata": {},
   "outputs": [],
   "source": [
    "df_ex1= df_ex1.dropna()"
   ]
  },
  {
   "cell_type": "code",
   "execution_count": null,
   "id": "2ca4a40b",
   "metadata": {},
   "outputs": [],
   "source": [
    "df_ex1['Password'] = df_ex1['Password'].astype(int)"
   ]
  },
  {
   "cell_type": "code",
   "execution_count": 49,
   "id": "2c4a30f4",
   "metadata": {},
   "outputs": [],
   "source": [
    "df_ex1.sort_values(by=['State', 'SS Name', 'DB Name', 'Password'],inplace=True)"
   ]
  },
  {
   "cell_type": "code",
   "execution_count": 50,
   "id": "4017631a",
   "metadata": {},
   "outputs": [],
   "source": [
    "# Create nested dictionary with password at DB level\n",
    "nested = {}\n",
    "\n",
    "for _, row in df_ex1.iterrows():\n",
    "    state = row['State']\n",
    "    ss = row['SS Name']\n",
    "    db = row['DB Name'] # DB Name\n",
    "    pwd = row['Password']\n",
    "\n",
    "    state_dict = nested.setdefault(state, {})\n",
    "    ss_dict = state_dict.setdefault(ss, {})\n",
    "    db_dict = ss_dict.setdefault(db, {\"password\": pwd})\n",
    "\n",
    "\n",
    "# Save\n",
    "with open(\"Data/db.json\", \"w\") as f:\n",
    "    json.dump(nested, f, indent=4)"
   ]
  },
  {
   "cell_type": "code",
   "execution_count": null,
   "id": "8e5c58d9",
   "metadata": {},
   "outputs": [],
   "source": []
  }
 ],
 "metadata": {
  "kernelspec": {
   "display_name": "Python 3",
   "language": "python",
   "name": "python3"
  },
  "language_info": {
   "codemirror_mode": {
    "name": "ipython",
    "version": 3
   },
   "file_extension": ".py",
   "mimetype": "text/x-python",
   "name": "python",
   "nbconvert_exporter": "python",
   "pygments_lexer": "ipython3",
   "version": "3.13.3"
  }
 },
 "nbformat": 4,
 "nbformat_minor": 5
}
