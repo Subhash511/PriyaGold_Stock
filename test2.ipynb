{
 "cells": [
  {
   "cell_type": "code",
   "execution_count": 1,
   "id": "a722a746",
   "metadata": {},
   "outputs": [],
   "source": [
    "import requests\n",
    "import json\n",
    "import pandas as pd\n",
    "import numpy as np"
   ]
  },
  {
   "cell_type": "code",
   "execution_count": 2,
   "id": "f1a1e949",
   "metadata": {},
   "outputs": [],
   "source": [
    "\n",
    "\n",
    "# # Google Apps Script Web App URL\n",
    "# url = \"https://script.google.com/macros/s/AKfycbwyP9x-mjl2wu8hYRP0Ctyep2BN4VDLmL9czfR-DoH2gi0JebPG-6M2v2SMuVWE0C_yDw/exec\"\n",
    "# url = 'http://127.0.0.1:5000/submit-stock'\n",
    "# # JSON payload\n",
    "# payload ={'State': 'Chhattisgarh', 'SS_Name': 'Agarwal Enterprises', 'DB_Name': 'Agarwal corpo.', 'Month': '2025-05', 'stocks': [{'Category': 'Bis', 'Item': 'Product A', 'Mrp': 100, 'Opening': '1238', 'Closing': '90'}, {'Category': 'Bis', 'Item': 'Product B', 'Mrp': 200, 'Opening': '0', 'Closing': '8'}, {'Category': 'Conf', 'Item': 'Product A', 'Mrp': 20, 'Opening': '78', 'Closing': '0'}, {'Category': 'Conf', 'Item': 'Product B', 'Mrp': 20, 'Opening': '8', 'Closing': '0'}]}"
   ]
  },
  {
   "cell_type": "code",
   "execution_count": 3,
   "id": "0104e787",
   "metadata": {},
   "outputs": [],
   "source": [
    "# # Send POST request\n",
    "# response = requests.post(url, json=payload)\n",
    "\n",
    "# # Print response\n",
    "# print(\"Status Code:\", response.status_code)\n",
    "# print(\"Response Text:\", response.text)\n"
   ]
  },
  {
   "cell_type": "markdown",
   "id": "b09f8e29",
   "metadata": {},
   "source": [
    "## Data Csv to Json"
   ]
  },
  {
   "cell_type": "code",
   "execution_count": 4,
   "id": "8abc3f8e",
   "metadata": {},
   "outputs": [],
   "source": [
    "#df = pd.read_csv('Data/db.csv')\n",
    "df11 = pd.read_excel('Data/sku_master.xlsx',sheet_name='sku_master')"
   ]
  },
  {
   "cell_type": "code",
   "execution_count": 5,
   "id": "d76a7720",
   "metadata": {},
   "outputs": [],
   "source": [
    "#df11.sort_values(by=['Category','Item_list','Mrp'],inplace=True)\n",
    "df22 = df11[['Category','Item_list','Mrp']]\n",
    "df22.to_json('Data/sku_master.json')"
   ]
  },
  {
   "cell_type": "code",
   "execution_count": 6,
   "id": "85c67d77",
   "metadata": {},
   "outputs": [],
   "source": [
    "# df2 = pd.read_json('Data/sku_master.json') \n",
    "# df2"
   ]
  },
  {
   "cell_type": "code",
   "execution_count": 7,
   "id": "91551a0f",
   "metadata": {},
   "outputs": [],
   "source": [
    "#df = pd.read_excel('Data/db-excel.xlsx',sheet_name='selected2')"
   ]
  },
  {
   "cell_type": "code",
   "execution_count": 8,
   "id": "cbb8fbfa",
   "metadata": {},
   "outputs": [],
   "source": [
    "df = pd.read_excel('Data/db_master.xlsx',sheet_name='Dist_Detail_Master')"
   ]
  },
  {
   "cell_type": "code",
   "execution_count": 9,
   "id": "ee4c3e7a",
   "metadata": {},
   "outputs": [],
   "source": [
    "for i in df.select_dtypes(include='object').columns:\n",
    "    df[i] = df[i].str.strip()\n",
    "df = df.apply(lambda x: x.str.strip().str.replace(r'\\s+', ' ', regex=True) if x.dtype == \"object\" else x)   "
   ]
  },
  {
   "cell_type": "code",
   "execution_count": 10,
   "id": "c76a4abb",
   "metadata": {},
   "outputs": [
    {
     "data": {
      "text/plain": [
       "Index(['S No', 'STATE NAME', 'ASM Name', 'SS Code', 'SS NAME', 'SS TOWN',\n",
       "       'Dist. Code', 'Dealer Name (As Per GST)', 'District Name', 'Town Name',\n",
       "       'Distance KM's From SS Point', 'DB GST Number',\n",
       "       'DB Contact Person Name', 'DB Contact Person Mob Number',\n",
       "       'DB Complete Postal Address', 'DB PIN Code', 'DB Email ID', 'DB Status',\n",
       "       'SR Name', 'Password', 'Bis. Target', 'Conf. Target', 'Noodle  Traget',\n",
       "       'Total Target', 'Bis. Target  ', 'Bis. Apr', 'Bis. May', 'Bis. Jun',\n",
       "       'Bis. Jul', 'Bis. Aug', 'Bis. Sep', 'Bis. Oct', 'Bis. Nov', 'Bis. Dec',\n",
       "       'Bis. Jan', 'Bis. Feb', 'Bis. Mar', 'Conf. Target  ', 'Conf. Apr',\n",
       "       'Conf. May', 'Conf. Jun', 'Conf. Jul', 'Conf. Aug', 'Conf. Sep',\n",
       "       'Conf. Oct', 'Conf. Nov', 'Conf. Dec', 'Conf. Jan', 'Conf. Feb',\n",
       "       'Conf. Mar', 'Juice Target  ', 'Juice Apr', 'Juice May', 'Juice Jun',\n",
       "       'Juice Jul', 'Juice Aug', 'Juice Sep', 'Juice Oct', 'Juice Nov',\n",
       "       'Juice Dec', 'Juice Jan', 'Juice Feb', 'Juice Mar', 'Noodles. Target',\n",
       "       'Noodle Nov', 'Noodle Dec', 'Noodle Jan', 'Noodle Feb', 'Noodle Mar',\n",
       "       'Urban/Rural'],\n",
       "      dtype='object')"
      ]
     },
     "execution_count": 10,
     "metadata": {},
     "output_type": "execute_result"
    }
   ],
   "source": [
    "df.columns"
   ]
  },
  {
   "cell_type": "code",
   "execution_count": 11,
   "id": "eb30f035",
   "metadata": {},
   "outputs": [],
   "source": [
    "df['STATE NAME'] = df['STATE NAME'].str.title().str.strip()\n",
    "df['ASM Name'] = df['ASM Name'].str.title().str.strip()\n",
    "df['SS NAME'] = df['SS NAME'].str.title().str.strip()\n",
    "df['Dealer Name (As Per GST)'] = df['Dealer Name (As Per GST)'].str.title().str.strip()"
   ]
  },
  {
   "cell_type": "code",
   "execution_count": 12,
   "id": "7a674b12",
   "metadata": {},
   "outputs": [],
   "source": [
    "df['SS Name'] = df['SS NAME']+\"|\"+df['SS Code']\n",
    "df['DB Name'] = df['Dealer Name (As Per GST)']+\"|\"+df['Dist. Code']"
   ]
  },
  {
   "cell_type": "code",
   "execution_count": 13,
   "id": "b750c020",
   "metadata": {},
   "outputs": [],
   "source": [
    "df1 = df.rename(columns={\n",
    "    'STATE NAME':'State',\n",
    "})"
   ]
  },
  {
   "cell_type": "code",
   "execution_count": 14,
   "id": "ddbff5a7",
   "metadata": {},
   "outputs": [],
   "source": [
    "df1 = df1[['State', 'SS Name', 'DB Name', 'Password']]"
   ]
  },
  {
   "cell_type": "code",
   "execution_count": 15,
   "id": "ccee2815",
   "metadata": {},
   "outputs": [],
   "source": [
    "df1= df1.dropna()"
   ]
  },
  {
   "cell_type": "code",
   "execution_count": 16,
   "id": "530bd3ee",
   "metadata": {},
   "outputs": [],
   "source": [
    "df1['Password'] = np.where(df1['Password']<1000,2025,df1['Password'])"
   ]
  },
  {
   "cell_type": "code",
   "execution_count": 17,
   "id": "2ca4a40b",
   "metadata": {},
   "outputs": [],
   "source": [
    "df1['Password'] = df1['Password'].astype(int)\n",
    "df1['State'] = df1['State'].astype(str).str.strip()\n",
    "df1['SS Name'] = df1['SS Name'].astype(str).str.strip()\n",
    "df1['DB Name'] = df1['DB Name'].astype(str).str.strip()"
   ]
  },
  {
   "cell_type": "code",
   "execution_count": 18,
   "id": "2c4a30f4",
   "metadata": {},
   "outputs": [],
   "source": [
    "df1.sort_values(by=['State', 'SS Name', 'DB Name', 'Password'],inplace=True)"
   ]
  },
  {
   "cell_type": "code",
   "execution_count": 19,
   "id": "6c374cde",
   "metadata": {},
   "outputs": [
    {
     "data": {
      "text/plain": [
       "array(['Gujarat', 'Haryana', 'Himachal Pradesh', 'Madhya Pradesh',\n",
       "       'Maharashtra', 'Punjab', 'Rajasthan', 'Uttarakhand'], dtype=object)"
      ]
     },
     "execution_count": 19,
     "metadata": {},
     "output_type": "execute_result"
    }
   ],
   "source": [
    "df1['State'].unique()"
   ]
  },
  {
   "cell_type": "code",
   "execution_count": 20,
   "id": "d1c74be1",
   "metadata": {},
   "outputs": [],
   "source": [
    "df1 = df1[~df1['State'].isin(['Chhattisgarh','Madhya Pradesh'])]"
   ]
  },
  {
   "cell_type": "code",
   "execution_count": 21,
   "id": "ccb3a02b",
   "metadata": {},
   "outputs": [
    {
     "data": {
      "text/plain": [
       "Index(['State', 'SS Name', 'DB Name'], dtype='object')"
      ]
     },
     "execution_count": 21,
     "metadata": {},
     "output_type": "execute_result"
    }
   ],
   "source": [
    "df1.select_dtypes(include='object').columns"
   ]
  },
  {
   "cell_type": "code",
   "execution_count": 22,
   "id": "38ff2f6e",
   "metadata": {},
   "outputs": [],
   "source": [
    "df1[df1.select_dtypes(include='object').columns] = df1.select_dtypes(include='object').apply(lambda x: x.str.strip())\n"
   ]
  },
  {
   "cell_type": "code",
   "execution_count": 23,
   "id": "b7281fed",
   "metadata": {},
   "outputs": [],
   "source": [
    "df1.to_csv('Data/master_export.csv',index=False)"
   ]
  },
  {
   "cell_type": "code",
   "execution_count": 24,
   "id": "72960811",
   "metadata": {},
   "outputs": [],
   "source": [
    "# df2 = pd.read_csv('Data/master_export.csv')\n",
    "# df2['State'] = df1['State'].astype(str).str.strip()\n",
    "# df2['SS Name'] = df2['SS Name'].astype(str).str.strip()\n",
    "# df2['DB Name'] = df2['DB Name'].astype(str).str.strip()\n",
    "# df2 = df2.apply(lambda x: x.str.strip().str.replace(r'\\s+', ' ', regex=True) if x.dtype == \"object\" else x)"
   ]
  },
  {
   "cell_type": "code",
   "execution_count": 25,
   "id": "4017631a",
   "metadata": {},
   "outputs": [],
   "source": [
    "# Create nested dictionary with password at DB level\n",
    "nested = {}\n",
    "\n",
    "for _, row in df1.iterrows():\n",
    "    state = row['State']\n",
    "    ss = row['SS Name']\n",
    "    db = row['DB Name'] # DB Name\n",
    "    pwd = row['Password']\n",
    "\n",
    "    state_dict = nested.setdefault(state, {})\n",
    "    ss_dict = state_dict.setdefault(ss, {})\n",
    "    db_dict = ss_dict.setdefault(db, {\"password\": pwd})\n",
    "\n",
    "\n",
    "# Save\n",
    "with open(\"Data/db.json\", \"w\") as f:\n",
    "    json.dump(nested, f, indent=4)"
   ]
  },
  {
   "cell_type": "code",
   "execution_count": 26,
   "id": "8cbc311d",
   "metadata": {},
   "outputs": [],
   "source": [
    "#df3 = df2[df2['Password']==3267]"
   ]
  },
  {
   "cell_type": "code",
   "execution_count": 27,
   "id": "5366cb3b",
   "metadata": {},
   "outputs": [],
   "source": [
    "#df3['DB Name'].str.split(' ')"
   ]
  },
  {
   "cell_type": "markdown",
   "id": "e132e591",
   "metadata": {},
   "source": [
    "#Mumbai"
   ]
  },
  {
   "cell_type": "code",
   "execution_count": 28,
   "id": "e1778c7c",
   "metadata": {},
   "outputs": [],
   "source": [
    "# mumbai = df1[df1['State'].isin(['Maharashtra'])]"
   ]
  },
  {
   "cell_type": "code",
   "execution_count": 29,
   "id": "3a0ef66d",
   "metadata": {},
   "outputs": [],
   "source": [
    "# # Create nested dictionary with password at DB level\n",
    "# nested = {}\n",
    "\n",
    "# for _, row in mumbai.iterrows():\n",
    "#     state = row['State']\n",
    "#     ss = row['SS Name']\n",
    "#     db = row['DB Name'] # DB Name\n",
    "#     pwd = row['Password']\n",
    "\n",
    "#     state_dict = nested.setdefault(state, {})\n",
    "#     ss_dict = state_dict.setdefault(ss, {})\n",
    "#     db_dict = ss_dict.setdefault(db, {\"password\": pwd})\n",
    "\n",
    "\n",
    "# # Save\n",
    "# with open(\"Data/db.json\", \"w\") as f:\n",
    "#     json.dump(nested, f, indent=4)"
   ]
  }
 ],
 "metadata": {
  "kernelspec": {
   "display_name": "Python 3",
   "language": "python",
   "name": "python3"
  },
  "language_info": {
   "codemirror_mode": {
    "name": "ipython",
    "version": 3
   },
   "file_extension": ".py",
   "mimetype": "text/x-python",
   "name": "python",
   "nbconvert_exporter": "python",
   "pygments_lexer": "ipython3",
   "version": "3.13.3"
  }
 },
 "nbformat": 4,
 "nbformat_minor": 5
}
