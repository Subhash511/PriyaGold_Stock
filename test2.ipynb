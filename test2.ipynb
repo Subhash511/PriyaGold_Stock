{
 "cells": [
  {
   "cell_type": "code",
   "execution_count": 1,
   "id": "a722a746",
   "metadata": {},
   "outputs": [],
   "source": [
    "import requests\n",
    "import json\n",
    "import pandas as pd"
   ]
  },
  {
   "cell_type": "code",
   "execution_count": null,
   "id": "f1a1e949",
   "metadata": {},
   "outputs": [],
   "source": [
    "\n",
    "\n",
    "# # Google Apps Script Web App URL\n",
    "# url = \"https://script.google.com/macros/s/AKfycbwyP9x-mjl2wu8hYRP0Ctyep2BN4VDLmL9czfR-DoH2gi0JebPG-6M2v2SMuVWE0C_yDw/exec\"\n",
    "# url = 'http://127.0.0.1:5000/submit-stock'\n",
    "# # JSON payload\n",
    "# payload ={'State': 'Chhattisgarh', 'SS_Name': 'Agarwal Enterprises', 'DB_Name': 'Agarwal corpo.', 'Month': '2025-05', 'stocks': [{'Category': 'Bis', 'Item': 'Product A', 'Mrp': 100, 'Opening': '1238', 'Closing': '90'}, {'Category': 'Bis', 'Item': 'Product B', 'Mrp': 200, 'Opening': '0', 'Closing': '8'}, {'Category': 'Conf', 'Item': 'Product A', 'Mrp': 20, 'Opening': '78', 'Closing': '0'}, {'Category': 'Conf', 'Item': 'Product B', 'Mrp': 20, 'Opening': '8', 'Closing': '0'}]}"
   ]
  },
  {
   "cell_type": "code",
   "execution_count": null,
   "id": "0104e787",
   "metadata": {},
   "outputs": [],
   "source": [
    "# # Send POST request\n",
    "# response = requests.post(url, json=payload)\n",
    "\n",
    "# # Print response\n",
    "# print(\"Status Code:\", response.status_code)\n",
    "# print(\"Response Text:\", response.text)\n"
   ]
  },
  {
   "cell_type": "markdown",
   "id": "b09f8e29",
   "metadata": {},
   "source": [
    "## Data Csv to Json"
   ]
  },
  {
   "cell_type": "code",
   "execution_count": null,
   "id": "8abc3f8e",
   "metadata": {},
   "outputs": [],
   "source": [
    "#df = pd.read_csv('Data/db.csv')\n",
    "df1 = pd.read_excel('Data/sku_master.xlsx',sheet_name='sku_master')"
   ]
  },
  {
   "cell_type": "code",
   "execution_count": null,
   "id": "d76a7720",
   "metadata": {},
   "outputs": [],
   "source": [
    "df1.sort_values(by=['Category','Item_list','Mrp'],inplace=True)\n",
    "df1.to_json('Data/sku_master.json')"
   ]
  },
  {
   "cell_type": "code",
   "execution_count": null,
   "id": "a0c1e9f6",
   "metadata": {},
   "outputs": [],
   "source": [
    "df1"
   ]
  },
  {
   "cell_type": "code",
   "execution_count": null,
   "id": "85c67d77",
   "metadata": {},
   "outputs": [],
   "source": [
    "# df2 = pd.read_json('Data/sku_master.json') \n",
    "# df2"
   ]
  },
  {
   "cell_type": "code",
   "execution_count": 2,
   "id": "91551a0f",
   "metadata": {},
   "outputs": [],
   "source": [
    "df_ex = pd.read_excel('Data/db-excel.xlsx',sheet_name='selected')"
   ]
  },
  {
   "cell_type": "code",
   "execution_count": 3,
   "id": "c76a4abb",
   "metadata": {},
   "outputs": [
    {
     "data": {
      "text/plain": [
       "Index(['STATE NAME', 'ASM Name', 'SS Code', 'SS NAME', 'SS TOWN', 'Dist. Code',\n",
       "       'Dealer Name (As Per GST)', 'District Name', 'Town Name',\n",
       "       'Distance KM's From SS Point', 'DB GST Number',\n",
       "       'DB Contact Person Name', 'DB Contact Person Mob Number',\n",
       "       'DB Complete Postal Address', 'DB PIN Code', 'DB Email ID', 'DB Status',\n",
       "       'SR Name', 'Password', 'Responsble Person', 'Designation'],\n",
       "      dtype='object')"
      ]
     },
     "execution_count": 3,
     "metadata": {},
     "output_type": "execute_result"
    }
   ],
   "source": [
    "df_ex.columns"
   ]
  },
  {
   "cell_type": "code",
   "execution_count": 4,
   "id": "e4f73217",
   "metadata": {},
   "outputs": [
    {
     "name": "stdout",
     "output_type": "stream",
     "text": [
      "<class 'pandas.core.frame.DataFrame'>\n",
      "RangeIndex: 616 entries, 0 to 615\n",
      "Data columns (total 21 columns):\n",
      " #   Column                        Non-Null Count  Dtype \n",
      "---  ------                        --------------  ----- \n",
      " 0   STATE NAME                    616 non-null    object\n",
      " 1   ASM Name                      616 non-null    object\n",
      " 2   SS Code                       616 non-null    object\n",
      " 3   SS NAME                       616 non-null    object\n",
      " 4   SS TOWN                       616 non-null    object\n",
      " 5   Dist. Code                    556 non-null    object\n",
      " 6   Dealer Name (As Per GST)      616 non-null    object\n",
      " 7   District Name                 606 non-null    object\n",
      " 8   Town Name                     587 non-null    object\n",
      " 9   Distance KM's From SS Point   511 non-null    object\n",
      " 10  DB GST Number                 476 non-null    object\n",
      " 11  DB Contact Person Name        526 non-null    object\n",
      " 12  DB Contact Person Mob Number  548 non-null    object\n",
      " 13  DB Complete Postal Address    550 non-null    object\n",
      " 14  DB PIN Code                   535 non-null    object\n",
      " 15  DB Email ID                   439 non-null    object\n",
      " 16  DB Status                     614 non-null    object\n",
      " 17  SR Name                       614 non-null    object\n",
      " 18  Password                      616 non-null    int64 \n",
      " 19  Responsble Person             403 non-null    object\n",
      " 20  Designation                   403 non-null    object\n",
      "dtypes: int64(1), object(20)\n",
      "memory usage: 101.2+ KB\n"
     ]
    }
   ],
   "source": [
    "df_ex.info()"
   ]
  },
  {
   "cell_type": "code",
   "execution_count": 5,
   "id": "b750c020",
   "metadata": {},
   "outputs": [],
   "source": [
    "df_ex1 = df_ex.rename(columns={\n",
    "    'STATE NAME':'State',\n",
    "    'SS NAME':'SS Name',\n",
    "    'Dealer Name (As Per GST)':'DB Name',\n",
    "    'Cross Checking':'Password'\n",
    "})"
   ]
  },
  {
   "cell_type": "code",
   "execution_count": 6,
   "id": "ddbff5a7",
   "metadata": {},
   "outputs": [],
   "source": [
    "df_ex1 = df_ex1[['State', 'SS Name', 'DB Name', 'Password']]"
   ]
  },
  {
   "cell_type": "code",
   "execution_count": 7,
   "id": "ccee2815",
   "metadata": {},
   "outputs": [],
   "source": [
    "df_ex1= df_ex1.dropna()"
   ]
  },
  {
   "cell_type": "code",
   "execution_count": 8,
   "id": "2ca4a40b",
   "metadata": {},
   "outputs": [],
   "source": [
    "df_ex1['Password'] = df_ex1['Password'].astype(int)\n",
    "df_ex1['State'] = df_ex1['State'].astype(str)\n",
    "df_ex1['SS Name'] = df_ex1['SS Name'].astype(str)\n",
    "df_ex1['DB Name'] = df_ex1['DB Name'].astype(str)"
   ]
  },
  {
   "cell_type": "code",
   "execution_count": 9,
   "id": "2c4a30f4",
   "metadata": {},
   "outputs": [],
   "source": [
    "df_ex1.sort_values(by=['State', 'SS Name', 'DB Name', 'Password'],inplace=True)"
   ]
  },
  {
   "cell_type": "code",
   "execution_count": 10,
   "id": "4017631a",
   "metadata": {},
   "outputs": [],
   "source": [
    "# Create nested dictionary with password at DB level\n",
    "nested = {}\n",
    "\n",
    "for _, row in df_ex1.iterrows():\n",
    "    state = row['State']\n",
    "    ss = row['SS Name']\n",
    "    db = row['DB Name'] # DB Name\n",
    "    pwd = row['Password']\n",
    "\n",
    "    state_dict = nested.setdefault(state, {})\n",
    "    ss_dict = state_dict.setdefault(ss, {})\n",
    "    db_dict = ss_dict.setdefault(db, {\"password\": pwd})\n",
    "\n",
    "\n",
    "# Save\n",
    "with open(\"Data/db.json\", \"w\") as f:\n",
    "    json.dump(nested, f, indent=4)"
   ]
  },
  {
   "cell_type": "code",
   "execution_count": null,
   "id": "e1778c7c",
   "metadata": {},
   "outputs": [],
   "source": []
  }
 ],
 "metadata": {
  "kernelspec": {
   "display_name": "Python 3",
   "language": "python",
   "name": "python3"
  },
  "language_info": {
   "codemirror_mode": {
    "name": "ipython",
    "version": 3
   },
   "file_extension": ".py",
   "mimetype": "text/x-python",
   "name": "python",
   "nbconvert_exporter": "python",
   "pygments_lexer": "ipython3",
   "version": "3.13.3"
  }
 },
 "nbformat": 4,
 "nbformat_minor": 5
}
